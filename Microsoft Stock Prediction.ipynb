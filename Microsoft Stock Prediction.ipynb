{
 "cells": [
  {
   "cell_type": "code",
   "execution_count": 1,
   "id": "f7aa6ad7",
   "metadata": {},
   "outputs": [],
   "source": [
    "import pandas as pd\n",
    "import datetime\n",
    "import matplotlib.pyplot as plt\n",
    "import numpy as np\n",
    "import warnings\n",
    "warnings.filterwarnings('ignore')"
   ]
  },
  {
   "cell_type": "code",
   "execution_count": 2,
   "id": "4d6fabc1",
   "metadata": {},
   "outputs": [],
   "source": [
    "df = pd.read_csv('MSFT.csv')"
   ]
  },
  {
   "cell_type": "code",
   "execution_count": 3,
   "id": "f7e6cefe",
   "metadata": {},
   "outputs": [
    {
     "data": {
      "text/html": [
       "<div>\n",
       "<style scoped>\n",
       "    .dataframe tbody tr th:only-of-type {\n",
       "        vertical-align: middle;\n",
       "    }\n",
       "\n",
       "    .dataframe tbody tr th {\n",
       "        vertical-align: top;\n",
       "    }\n",
       "\n",
       "    .dataframe thead th {\n",
       "        text-align: right;\n",
       "    }\n",
       "</style>\n",
       "<table border=\"1\" class=\"dataframe\">\n",
       "  <thead>\n",
       "    <tr style=\"text-align: right;\">\n",
       "      <th></th>\n",
       "      <th>Date</th>\n",
       "      <th>Open</th>\n",
       "      <th>High</th>\n",
       "      <th>Low</th>\n",
       "      <th>Close</th>\n",
       "      <th>Adj Close</th>\n",
       "      <th>Volume</th>\n",
       "    </tr>\n",
       "  </thead>\n",
       "  <tbody>\n",
       "    <tr>\n",
       "      <th>0</th>\n",
       "      <td>1986-03-13</td>\n",
       "      <td>0.088542</td>\n",
       "      <td>0.101563</td>\n",
       "      <td>0.088542</td>\n",
       "      <td>0.097222</td>\n",
       "      <td>0.060396</td>\n",
       "      <td>1031788800</td>\n",
       "    </tr>\n",
       "    <tr>\n",
       "      <th>1</th>\n",
       "      <td>1986-03-14</td>\n",
       "      <td>0.097222</td>\n",
       "      <td>0.102431</td>\n",
       "      <td>0.097222</td>\n",
       "      <td>0.100694</td>\n",
       "      <td>0.062553</td>\n",
       "      <td>308160000</td>\n",
       "    </tr>\n",
       "    <tr>\n",
       "      <th>2</th>\n",
       "      <td>1986-03-17</td>\n",
       "      <td>0.100694</td>\n",
       "      <td>0.103299</td>\n",
       "      <td>0.100694</td>\n",
       "      <td>0.102431</td>\n",
       "      <td>0.063632</td>\n",
       "      <td>133171200</td>\n",
       "    </tr>\n",
       "    <tr>\n",
       "      <th>3</th>\n",
       "      <td>1986-03-18</td>\n",
       "      <td>0.102431</td>\n",
       "      <td>0.103299</td>\n",
       "      <td>0.098958</td>\n",
       "      <td>0.099826</td>\n",
       "      <td>0.062014</td>\n",
       "      <td>67766400</td>\n",
       "    </tr>\n",
       "    <tr>\n",
       "      <th>4</th>\n",
       "      <td>1986-03-19</td>\n",
       "      <td>0.099826</td>\n",
       "      <td>0.100694</td>\n",
       "      <td>0.097222</td>\n",
       "      <td>0.098090</td>\n",
       "      <td>0.060936</td>\n",
       "      <td>47894400</td>\n",
       "    </tr>\n",
       "    <tr>\n",
       "      <th>...</th>\n",
       "      <td>...</td>\n",
       "      <td>...</td>\n",
       "      <td>...</td>\n",
       "      <td>...</td>\n",
       "      <td>...</td>\n",
       "      <td>...</td>\n",
       "      <td>...</td>\n",
       "    </tr>\n",
       "    <tr>\n",
       "      <th>9444</th>\n",
       "      <td>2023-09-01</td>\n",
       "      <td>331.309998</td>\n",
       "      <td>331.989990</td>\n",
       "      <td>326.779999</td>\n",
       "      <td>328.660004</td>\n",
       "      <td>328.660004</td>\n",
       "      <td>14931200</td>\n",
       "    </tr>\n",
       "    <tr>\n",
       "      <th>9445</th>\n",
       "      <td>2023-09-05</td>\n",
       "      <td>329.000000</td>\n",
       "      <td>334.850006</td>\n",
       "      <td>328.660004</td>\n",
       "      <td>333.549988</td>\n",
       "      <td>333.549988</td>\n",
       "      <td>18553900</td>\n",
       "    </tr>\n",
       "    <tr>\n",
       "      <th>9446</th>\n",
       "      <td>2023-09-06</td>\n",
       "      <td>333.380005</td>\n",
       "      <td>334.459991</td>\n",
       "      <td>330.179993</td>\n",
       "      <td>332.880005</td>\n",
       "      <td>332.880005</td>\n",
       "      <td>17535800</td>\n",
       "    </tr>\n",
       "    <tr>\n",
       "      <th>9447</th>\n",
       "      <td>2023-09-07</td>\n",
       "      <td>331.290009</td>\n",
       "      <td>333.079987</td>\n",
       "      <td>329.029999</td>\n",
       "      <td>329.910004</td>\n",
       "      <td>329.910004</td>\n",
       "      <td>18381000</td>\n",
       "    </tr>\n",
       "    <tr>\n",
       "      <th>9448</th>\n",
       "      <td>2023-09-08</td>\n",
       "      <td>330.089996</td>\n",
       "      <td>336.160004</td>\n",
       "      <td>329.459991</td>\n",
       "      <td>334.269989</td>\n",
       "      <td>334.269989</td>\n",
       "      <td>19530100</td>\n",
       "    </tr>\n",
       "  </tbody>\n",
       "</table>\n",
       "<p>9449 rows × 7 columns</p>\n",
       "</div>"
      ],
      "text/plain": [
       "            Date        Open        High         Low       Close   Adj Close  \\\n",
       "0     1986-03-13    0.088542    0.101563    0.088542    0.097222    0.060396   \n",
       "1     1986-03-14    0.097222    0.102431    0.097222    0.100694    0.062553   \n",
       "2     1986-03-17    0.100694    0.103299    0.100694    0.102431    0.063632   \n",
       "3     1986-03-18    0.102431    0.103299    0.098958    0.099826    0.062014   \n",
       "4     1986-03-19    0.099826    0.100694    0.097222    0.098090    0.060936   \n",
       "...          ...         ...         ...         ...         ...         ...   \n",
       "9444  2023-09-01  331.309998  331.989990  326.779999  328.660004  328.660004   \n",
       "9445  2023-09-05  329.000000  334.850006  328.660004  333.549988  333.549988   \n",
       "9446  2023-09-06  333.380005  334.459991  330.179993  332.880005  332.880005   \n",
       "9447  2023-09-07  331.290009  333.079987  329.029999  329.910004  329.910004   \n",
       "9448  2023-09-08  330.089996  336.160004  329.459991  334.269989  334.269989   \n",
       "\n",
       "          Volume  \n",
       "0     1031788800  \n",
       "1      308160000  \n",
       "2      133171200  \n",
       "3       67766400  \n",
       "4       47894400  \n",
       "...          ...  \n",
       "9444    14931200  \n",
       "9445    18553900  \n",
       "9446    17535800  \n",
       "9447    18381000  \n",
       "9448    19530100  \n",
       "\n",
       "[9449 rows x 7 columns]"
      ]
     },
     "execution_count": 3,
     "metadata": {},
     "output_type": "execute_result"
    }
   ],
   "source": [
    "df"
   ]
  },
  {
   "cell_type": "code",
   "execution_count": 4,
   "id": "d20ee61e",
   "metadata": {},
   "outputs": [],
   "source": [
    "df = df[['Date','Close']]"
   ]
  },
  {
   "cell_type": "code",
   "execution_count": 5,
   "id": "4edbda02",
   "metadata": {},
   "outputs": [
    {
     "data": {
      "text/html": [
       "<div>\n",
       "<style scoped>\n",
       "    .dataframe tbody tr th:only-of-type {\n",
       "        vertical-align: middle;\n",
       "    }\n",
       "\n",
       "    .dataframe tbody tr th {\n",
       "        vertical-align: top;\n",
       "    }\n",
       "\n",
       "    .dataframe thead th {\n",
       "        text-align: right;\n",
       "    }\n",
       "</style>\n",
       "<table border=\"1\" class=\"dataframe\">\n",
       "  <thead>\n",
       "    <tr style=\"text-align: right;\">\n",
       "      <th></th>\n",
       "      <th>Date</th>\n",
       "      <th>Close</th>\n",
       "    </tr>\n",
       "  </thead>\n",
       "  <tbody>\n",
       "    <tr>\n",
       "      <th>0</th>\n",
       "      <td>1986-03-13</td>\n",
       "      <td>0.097222</td>\n",
       "    </tr>\n",
       "    <tr>\n",
       "      <th>1</th>\n",
       "      <td>1986-03-14</td>\n",
       "      <td>0.100694</td>\n",
       "    </tr>\n",
       "    <tr>\n",
       "      <th>2</th>\n",
       "      <td>1986-03-17</td>\n",
       "      <td>0.102431</td>\n",
       "    </tr>\n",
       "    <tr>\n",
       "      <th>3</th>\n",
       "      <td>1986-03-18</td>\n",
       "      <td>0.099826</td>\n",
       "    </tr>\n",
       "    <tr>\n",
       "      <th>4</th>\n",
       "      <td>1986-03-19</td>\n",
       "      <td>0.098090</td>\n",
       "    </tr>\n",
       "    <tr>\n",
       "      <th>...</th>\n",
       "      <td>...</td>\n",
       "      <td>...</td>\n",
       "    </tr>\n",
       "    <tr>\n",
       "      <th>9444</th>\n",
       "      <td>2023-09-01</td>\n",
       "      <td>328.660004</td>\n",
       "    </tr>\n",
       "    <tr>\n",
       "      <th>9445</th>\n",
       "      <td>2023-09-05</td>\n",
       "      <td>333.549988</td>\n",
       "    </tr>\n",
       "    <tr>\n",
       "      <th>9446</th>\n",
       "      <td>2023-09-06</td>\n",
       "      <td>332.880005</td>\n",
       "    </tr>\n",
       "    <tr>\n",
       "      <th>9447</th>\n",
       "      <td>2023-09-07</td>\n",
       "      <td>329.910004</td>\n",
       "    </tr>\n",
       "    <tr>\n",
       "      <th>9448</th>\n",
       "      <td>2023-09-08</td>\n",
       "      <td>334.269989</td>\n",
       "    </tr>\n",
       "  </tbody>\n",
       "</table>\n",
       "<p>9449 rows × 2 columns</p>\n",
       "</div>"
      ],
      "text/plain": [
       "            Date       Close\n",
       "0     1986-03-13    0.097222\n",
       "1     1986-03-14    0.100694\n",
       "2     1986-03-17    0.102431\n",
       "3     1986-03-18    0.099826\n",
       "4     1986-03-19    0.098090\n",
       "...          ...         ...\n",
       "9444  2023-09-01  328.660004\n",
       "9445  2023-09-05  333.549988\n",
       "9446  2023-09-06  332.880005\n",
       "9447  2023-09-07  329.910004\n",
       "9448  2023-09-08  334.269989\n",
       "\n",
       "[9449 rows x 2 columns]"
      ]
     },
     "execution_count": 5,
     "metadata": {},
     "output_type": "execute_result"
    }
   ],
   "source": [
    "df"
   ]
  },
  {
   "cell_type": "code",
   "execution_count": 6,
   "id": "60586f2f",
   "metadata": {},
   "outputs": [
    {
     "data": {
      "text/plain": [
       "0       1986-03-13\n",
       "1       1986-03-14\n",
       "2       1986-03-17\n",
       "3       1986-03-18\n",
       "4       1986-03-19\n",
       "           ...    \n",
       "9444    2023-09-01\n",
       "9445    2023-09-05\n",
       "9446    2023-09-06\n",
       "9447    2023-09-07\n",
       "9448    2023-09-08\n",
       "Name: Date, Length: 9449, dtype: object"
      ]
     },
     "execution_count": 6,
     "metadata": {},
     "output_type": "execute_result"
    }
   ],
   "source": [
    "df['Date']"
   ]
  },
  {
   "cell_type": "code",
   "execution_count": 7,
   "id": "8b6df239",
   "metadata": {},
   "outputs": [
    {
     "data": {
      "text/plain": [
       "datetime.datetime(1986, 3, 13, 0, 0)"
      ]
     },
     "execution_count": 7,
     "metadata": {},
     "output_type": "execute_result"
    }
   ],
   "source": [
    "def str_to_dateTime(s):\n",
    "    split = s.split('-')\n",
    "    year , month , day = int(split[0]),int(split[1]),int(split[2])\n",
    "    return datetime.datetime(year=year , month = month , day = day)\n",
    "datetime_object = str_to_dateTime('1986-03-13')\n",
    "datetime_object"
   ]
  },
  {
   "cell_type": "code",
   "execution_count": 8,
   "id": "ce817847",
   "metadata": {},
   "outputs": [],
   "source": [
    "df['Date'] = df['Date'].apply(str_to_dateTime)\n"
   ]
  },
  {
   "cell_type": "code",
   "execution_count": 9,
   "id": "51feb3cb",
   "metadata": {},
   "outputs": [
    {
     "data": {
      "text/plain": [
       "0      1986-03-13\n",
       "1      1986-03-14\n",
       "2      1986-03-17\n",
       "3      1986-03-18\n",
       "4      1986-03-19\n",
       "          ...    \n",
       "9444   2023-09-01\n",
       "9445   2023-09-05\n",
       "9446   2023-09-06\n",
       "9447   2023-09-07\n",
       "9448   2023-09-08\n",
       "Name: Date, Length: 9449, dtype: datetime64[ns]"
      ]
     },
     "execution_count": 9,
     "metadata": {},
     "output_type": "execute_result"
    }
   ],
   "source": [
    "df['Date']"
   ]
  },
  {
   "cell_type": "code",
   "execution_count": 10,
   "id": "5fb22d85",
   "metadata": {},
   "outputs": [],
   "source": [
    "df.index = df.pop('Date')"
   ]
  },
  {
   "cell_type": "code",
   "execution_count": 11,
   "id": "2e99eb00",
   "metadata": {},
   "outputs": [
    {
     "data": {
      "text/html": [
       "<div>\n",
       "<style scoped>\n",
       "    .dataframe tbody tr th:only-of-type {\n",
       "        vertical-align: middle;\n",
       "    }\n",
       "\n",
       "    .dataframe tbody tr th {\n",
       "        vertical-align: top;\n",
       "    }\n",
       "\n",
       "    .dataframe thead th {\n",
       "        text-align: right;\n",
       "    }\n",
       "</style>\n",
       "<table border=\"1\" class=\"dataframe\">\n",
       "  <thead>\n",
       "    <tr style=\"text-align: right;\">\n",
       "      <th></th>\n",
       "      <th>Close</th>\n",
       "    </tr>\n",
       "    <tr>\n",
       "      <th>Date</th>\n",
       "      <th></th>\n",
       "    </tr>\n",
       "  </thead>\n",
       "  <tbody>\n",
       "    <tr>\n",
       "      <th>1986-03-13</th>\n",
       "      <td>0.097222</td>\n",
       "    </tr>\n",
       "    <tr>\n",
       "      <th>1986-03-14</th>\n",
       "      <td>0.100694</td>\n",
       "    </tr>\n",
       "    <tr>\n",
       "      <th>1986-03-17</th>\n",
       "      <td>0.102431</td>\n",
       "    </tr>\n",
       "    <tr>\n",
       "      <th>1986-03-18</th>\n",
       "      <td>0.099826</td>\n",
       "    </tr>\n",
       "    <tr>\n",
       "      <th>1986-03-19</th>\n",
       "      <td>0.098090</td>\n",
       "    </tr>\n",
       "    <tr>\n",
       "      <th>...</th>\n",
       "      <td>...</td>\n",
       "    </tr>\n",
       "    <tr>\n",
       "      <th>2023-09-01</th>\n",
       "      <td>328.660004</td>\n",
       "    </tr>\n",
       "    <tr>\n",
       "      <th>2023-09-05</th>\n",
       "      <td>333.549988</td>\n",
       "    </tr>\n",
       "    <tr>\n",
       "      <th>2023-09-06</th>\n",
       "      <td>332.880005</td>\n",
       "    </tr>\n",
       "    <tr>\n",
       "      <th>2023-09-07</th>\n",
       "      <td>329.910004</td>\n",
       "    </tr>\n",
       "    <tr>\n",
       "      <th>2023-09-08</th>\n",
       "      <td>334.269989</td>\n",
       "    </tr>\n",
       "  </tbody>\n",
       "</table>\n",
       "<p>9449 rows × 1 columns</p>\n",
       "</div>"
      ],
      "text/plain": [
       "                 Close\n",
       "Date                  \n",
       "1986-03-13    0.097222\n",
       "1986-03-14    0.100694\n",
       "1986-03-17    0.102431\n",
       "1986-03-18    0.099826\n",
       "1986-03-19    0.098090\n",
       "...                ...\n",
       "2023-09-01  328.660004\n",
       "2023-09-05  333.549988\n",
       "2023-09-06  332.880005\n",
       "2023-09-07  329.910004\n",
       "2023-09-08  334.269989\n",
       "\n",
       "[9449 rows x 1 columns]"
      ]
     },
     "execution_count": 11,
     "metadata": {},
     "output_type": "execute_result"
    }
   ],
   "source": [
    "df"
   ]
  },
  {
   "cell_type": "code",
   "execution_count": 12,
   "id": "39ef4e76",
   "metadata": {},
   "outputs": [
    {
     "data": {
      "text/plain": [
       "[<matplotlib.lines.Line2D at 0x1f2d2a4d760>]"
      ]
     },
     "execution_count": 12,
     "metadata": {},
     "output_type": "execute_result"
    },
    {
     "data": {
      "image/png": "[encoded data removed]",
      "text/plain": [
       "<Figure size 432x288 with 1 Axes>"
      ]
     },
     "metadata": {
      "needs_background": "light"
     },
     "output_type": "display_data"
    }
   ],
   "source": [
    "plt.plot(df.index , df['Close'])"
   ]
  },
  {
   "cell_type": "code",
   "execution_count": 13,
   "id": "71d0c4f0",
   "metadata": {},
   "outputs": [
    {
     "data": {
      "text/html": [
       "<div>\n",
       "<style scoped>\n",
       "    .dataframe tbody tr th:only-of-type {\n",
       "        vertical-align: middle;\n",
       "    }\n",
       "\n",
       "    .dataframe tbody tr th {\n",
       "        vertical-align: top;\n",
       "    }\n",
       "\n",
       "    .dataframe thead th {\n",
       "        text-align: right;\n",
       "    }\n",
       "</style>\n",
       "<table border=\"1\" class=\"dataframe\">\n",
       "  <thead>\n",
       "    <tr style=\"text-align: right;\">\n",
       "      <th></th>\n",
       "      <th>Target Date</th>\n",
       "      <th>Target-3</th>\n",
       "      <th>Target-2</th>\n",
       "      <th>Target-1</th>\n",
       "      <th>Target</th>\n",
       "    </tr>\n",
       "  </thead>\n",
       "  <tbody>\n",
       "    <tr>\n",
       "      <th>0</th>\n",
       "      <td>2021-03-25</td>\n",
       "      <td>235.990005</td>\n",
       "      <td>237.580002</td>\n",
       "      <td>235.460007</td>\n",
       "      <td>232.339996</td>\n",
       "    </tr>\n",
       "    <tr>\n",
       "      <th>1</th>\n",
       "      <td>2021-03-26</td>\n",
       "      <td>237.580002</td>\n",
       "      <td>235.460007</td>\n",
       "      <td>232.339996</td>\n",
       "      <td>236.479996</td>\n",
       "    </tr>\n",
       "    <tr>\n",
       "      <th>2</th>\n",
       "      <td>2021-03-29</td>\n",
       "      <td>235.460007</td>\n",
       "      <td>232.339996</td>\n",
       "      <td>236.479996</td>\n",
       "      <td>235.240005</td>\n",
       "    </tr>\n",
       "    <tr>\n",
       "      <th>3</th>\n",
       "      <td>2021-03-30</td>\n",
       "      <td>232.339996</td>\n",
       "      <td>236.479996</td>\n",
       "      <td>235.240005</td>\n",
       "      <td>231.850006</td>\n",
       "    </tr>\n",
       "    <tr>\n",
       "      <th>4</th>\n",
       "      <td>2021-03-31</td>\n",
       "      <td>236.479996</td>\n",
       "      <td>235.240005</td>\n",
       "      <td>231.850006</td>\n",
       "      <td>235.770004</td>\n",
       "    </tr>\n",
       "    <tr>\n",
       "      <th>...</th>\n",
       "      <td>...</td>\n",
       "      <td>...</td>\n",
       "      <td>...</td>\n",
       "      <td>...</td>\n",
       "      <td>...</td>\n",
       "    </tr>\n",
       "    <tr>\n",
       "      <th>614</th>\n",
       "      <td>2023-09-01</td>\n",
       "      <td>328.410004</td>\n",
       "      <td>328.790009</td>\n",
       "      <td>327.760010</td>\n",
       "      <td>328.660004</td>\n",
       "    </tr>\n",
       "    <tr>\n",
       "      <th>615</th>\n",
       "      <td>2023-09-05</td>\n",
       "      <td>328.790009</td>\n",
       "      <td>327.760010</td>\n",
       "      <td>328.660004</td>\n",
       "      <td>333.549988</td>\n",
       "    </tr>\n",
       "    <tr>\n",
       "      <th>616</th>\n",
       "      <td>2023-09-06</td>\n",
       "      <td>327.760010</td>\n",
       "      <td>328.660004</td>\n",
       "      <td>333.549988</td>\n",
       "      <td>332.880005</td>\n",
       "    </tr>\n",
       "    <tr>\n",
       "      <th>617</th>\n",
       "      <td>2023-09-07</td>\n",
       "      <td>328.660004</td>\n",
       "      <td>333.549988</td>\n",
       "      <td>332.880005</td>\n",
       "      <td>329.910004</td>\n",
       "    </tr>\n",
       "    <tr>\n",
       "      <th>618</th>\n",
       "      <td>2023-09-08</td>\n",
       "      <td>333.549988</td>\n",
       "      <td>332.880005</td>\n",
       "      <td>329.910004</td>\n",
       "      <td>334.269989</td>\n",
       "    </tr>\n",
       "  </tbody>\n",
       "</table>\n",
       "<p>619 rows × 5 columns</p>\n",
       "</div>"
      ],
      "text/plain": [
       "    Target Date    Target-3    Target-2    Target-1      Target\n",
       "0    2021-03-25  235.990005  237.580002  235.460007  232.339996\n",
       "1    2021-03-26  237.580002  235.460007  232.339996  236.479996\n",
       "2    2021-03-29  235.460007  232.339996  236.479996  235.240005\n",
       "3    2021-03-30  232.339996  236.479996  235.240005  231.850006\n",
       "4    2021-03-31  236.479996  235.240005  231.850006  235.770004\n",
       "..          ...         ...         ...         ...         ...\n",
       "614  2023-09-01  328.410004  328.790009  327.760010  328.660004\n",
       "615  2023-09-05  328.790009  327.760010  328.660004  333.549988\n",
       "616  2023-09-06  327.760010  328.660004  333.549988  332.880005\n",
       "617  2023-09-07  328.660004  333.549988  332.880005  329.910004\n",
       "618  2023-09-08  333.549988  332.880005  329.910004  334.269989\n",
       "\n",
       "[619 rows x 5 columns]"
      ]
     },
     "execution_count": 13,
     "metadata": {},
     "output_type": "execute_result"
    }
   ],
   "source": [
    "# To convert problem to supervised learning problem\n",
    "\n",
    "def df_to_windowed_df(dataframe , firstDate_str , lastDate_str ,n=3):\n",
    "    first_date = str_to_dateTime(firstDate_str)\n",
    "    last_date  = str_to_dateTime(lastDate_str)\n",
    "\n",
    "    target_date = first_date\n",
    "  \n",
    "    dates = []\n",
    "    X, Y = [], []\n",
    "\n",
    "    last_time = False\n",
    "    while True:\n",
    "        df_subset = dataframe.loc[:target_date].tail(n+1)\n",
    "    \n",
    "        if len(df_subset) != n+1:\n",
    "            print(f'Error: Window of size {n} is too large for date {target_date}')\n",
    "            return\n",
    "\n",
    "        values = df_subset['Close'].to_numpy()\n",
    "        x, y = values[:-1], values[-1]\n",
    "\n",
    "        dates.append(target_date)\n",
    "        X.append(x)\n",
    "        Y.append(y)\n",
    "\n",
    "        next_week = dataframe.loc[target_date:target_date+datetime.timedelta(days=7)]\n",
    "        next_datetime_str = str(next_week.head(2).tail(1).index.values[0])\n",
    "        next_date_str = next_datetime_str.split('T')[0]\n",
    "        year_month_day = next_date_str.split('-')\n",
    "        year, month, day = year_month_day\n",
    "        next_date = datetime.datetime(day=int(day), month=int(month), year=int(year))\n",
    "    \n",
    "        if last_time:\n",
    "            break\n",
    "    \n",
    "        target_date = next_date\n",
    "\n",
    "        if target_date == last_date:\n",
    "            last_time = True\n",
    "    \n",
    "    ret_df = pd.DataFrame({})\n",
    "    ret_df['Target Date'] = dates\n",
    "  \n",
    "    X = np.array(X)\n",
    "    for i in range(0, n):\n",
    "        X[:, i]\n",
    "        ret_df[f'Target-{n-i}'] = X[:, i]\n",
    "  \n",
    "    ret_df['Target'] = Y\n",
    "\n",
    "    return ret_df\n",
    "\n",
    "# Start day second time around: '2021-03-25'\n",
    "windowed_df = df_to_windowed_df(df, \n",
    "                                '2021-03-25', \n",
    "                                '2023-09-08', \n",
    "                                n=3)\n",
    "windowed_df"
   ]
  },
  {
   "cell_type": "code",
   "execution_count": 14,
   "id": "5a01c58b",
   "metadata": {},
   "outputs": [
    {
     "data": {
      "text/plain": [
       "((619,), (619, 3, 1), (619,))"
      ]
     },
     "execution_count": 14,
     "metadata": {},
     "output_type": "execute_result"
    }
   ],
   "source": [
    "# converting to numpy array so that we can feed it directly into tensorflow model\n",
    "\n",
    "def windowed_df_to_date_x_y(windowed_df):\n",
    "    df_as_np = windowed_df.to_numpy()\n",
    "    \n",
    "    dates = df_as_np[:,0]\n",
    "    middle_matrix = df_as_np[: , 1:-1]\n",
    "    x = middle_matrix.reshape(len(dates) , middle_matrix.shape[1],1) # 1 because we are using only 1 attribute(closing) => univariate\n",
    "    y = df_as_np[:, -1]\n",
    "    return dates , x.astype(np.float32),y.astype(np.float32)\n",
    "dates , x , y = windowed_df_to_date_x_y(windowed_df)\n",
    "dates.shape , x.shape , y.shape"
   ]
  },
  {
   "cell_type": "code",
   "execution_count": 15,
   "id": "5bb60d0d",
   "metadata": {},
   "outputs": [
    {
     "data": {
      "text/plain": [
       "<matplotlib.legend.Legend at 0x1f2d29af550>"
      ]
     },
     "execution_count": 15,
     "metadata": {},
     "output_type": "execute_result"
    },
    {
     "data": {
      "image/png": "[encoded data removed]",
      "text/plain": [
       "<Figure size 432x288 with 1 Axes>"
      ]
     },
     "metadata": {
      "needs_background": "light"
     },
     "output_type": "display_data"
    }
   ],
   "source": [
    "q_80 = int(len(dates) * 0.8)\n",
    "q_90 = int(len(dates) * 0.9)\n",
    "\n",
    "dates_train , x_train , y_train = dates[:q_80] , x[:q_80] , y[:q_80]\n",
    "\n",
    "dates_val , x_val , y_val = dates[q_80 : q_90] , x[q_80 :q_90] , y[q_80:q_90]\n",
    "dates_test , x_test , y_test = dates[q_90:] , x[q_90:] , y[q_90:]\n",
    "plt.plot(dates_train , y_train) \n",
    "plt.plot(dates_val , y_val)\n",
    "plt.plot(dates_test , y_test)\n",
    "plt.legend(['Train' , 'Validation' , 'Test'])"
   ]
  },
  {
   "cell_type": "code",
   "execution_count": 16,
   "id": "19ab1399",
   "metadata": {},
   "outputs": [
    {
     "name": "stdout",
     "output_type": "stream",
     "text": [
      "Epoch 1/100\n",
      "16/16 [==============================] - 10s 108ms/step - loss: 76123.4844 - mean_absolute_error: 274.2586 - val_loss: 89647.5547 - val_mean_absolute_error: 298.7368\n",
      "Epoch 2/100\n",
      "16/16 [==============================] - 0s 13ms/step - loss: 75633.4531 - mean_absolute_error: 273.3638 - val_loss: 88940.1484 - val_mean_absolute_error: 297.5504\n",
      "Epoch 3/100\n",
      "16/16 [==============================] - 0s 14ms/step - loss: 74665.3750 - mean_absolute_error: 271.5875 - val_loss: 87322.7422 - val_mean_absolute_error: 294.8191\n",
      "Epoch 4/100\n",
      "16/16 [==============================] - 0s 13ms/step - loss: 72751.8047 - mean_absolute_error: 268.0420 - val_loss: 84644.3984 - val_mean_absolute_error: 290.2414\n",
      "Epoch 5/100\n",
      "16/16 [==============================] - 0s 14ms/step - loss: 69524.7422 - mean_absolute_error: 261.9393 - val_loss: 79919.8672 - val_mean_absolute_error: 281.9846\n",
      "Epoch 6/100\n",
      "16/16 [==============================] - 0s 14ms/step - loss: 64040.3359 - mean_absolute_error: 251.2364 - val_loss: 72299.9297 - val_mean_absolute_error: 268.1341\n",
      "Epoch 7/100\n",
      "16/16 [==============================] - 0s 13ms/step - loss: 56301.5781 - mean_absolute_error: 235.3056 - val_loss: 62647.6328 - val_mean_absolute_error: 249.4867\n",
      "Epoch 8/100\n",
      "16/16 [==============================] - 0s 14ms/step - loss: 46512.9023 - mean_absolute_error: 213.4294 - val_loss: 50067.1133 - val_mean_absolute_error: 222.8495\n",
      "Epoch 9/100\n",
      "16/16 [==============================] - 0s 14ms/step - loss: 34515.8125 - mean_absolute_error: 183.0596 - val_loss: 36175.9023 - val_mean_absolute_error: 189.1354\n",
      "Epoch 10/100\n",
      "16/16 [==============================] - 0s 13ms/step - loss: 22819.9609 - mean_absolute_error: 147.6947 - val_loss: 23207.1055 - val_mean_absolute_error: 150.9937\n",
      "Epoch 11/100\n",
      "16/16 [==============================] - 0s 13ms/step - loss: 12410.9062 - mean_absolute_error: 106.6585 - val_loss: 12305.3809 - val_mean_absolute_error: 109.0930\n",
      "Epoch 12/100\n",
      "16/16 [==============================] - 0s 15ms/step - loss: 5476.8398 - mean_absolute_error: 66.2194 - val_loss: 5410.0586 - val_mean_absolute_error: 70.7554\n",
      "Epoch 13/100\n",
      "16/16 [==============================] - 0s 13ms/step - loss: 2058.4326 - mean_absolute_error: 35.6677 - val_loss: 2354.2556 - val_mean_absolute_error: 44.1648\n",
      "Epoch 14/100\n",
      "16/16 [==============================] - 0s 14ms/step - loss: 1071.0077 - mean_absolute_error: 26.1134 - val_loss: 1258.9965 - val_mean_absolute_error: 29.7160\n",
      "Epoch 15/100\n",
      "16/16 [==============================] - 0s 15ms/step - loss: 907.7330 - mean_absolute_error: 25.4032 - val_loss: 993.2578 - val_mean_absolute_error: 25.3299\n",
      "Epoch 16/100\n",
      "16/16 [==============================] - 0s 12ms/step - loss: 906.7821 - mean_absolute_error: 25.6400 - val_loss: 961.0760 - val_mean_absolute_error: 24.8085\n",
      "Epoch 17/100\n",
      "16/16 [==============================] - 0s 13ms/step - loss: 906.3675 - mean_absolute_error: 25.6235 - val_loss: 987.2135 - val_mean_absolute_error: 25.2322\n",
      "Epoch 18/100\n",
      "16/16 [==============================] - 0s 14ms/step - loss: 906.8368 - mean_absolute_error: 25.5853 - val_loss: 1041.9186 - val_mean_absolute_error: 26.1487\n",
      "Epoch 19/100\n",
      "16/16 [==============================] - 0s 14ms/step - loss: 905.3852 - mean_absolute_error: 25.5418 - val_loss: 1010.9535 - val_mean_absolute_error: 25.6284\n",
      "Epoch 20/100\n",
      "16/16 [==============================] - 0s 14ms/step - loss: 905.5486 - mean_absolute_error: 25.5752 - val_loss: 1010.3245 - val_mean_absolute_error: 25.6177\n",
      "Epoch 21/100\n",
      "16/16 [==============================] - 0s 15ms/step - loss: 905.1658 - mean_absolute_error: 25.5610 - val_loss: 1039.0154 - val_mean_absolute_error: 26.1140\n",
      "Epoch 22/100\n",
      "16/16 [==============================] - 0s 14ms/step - loss: 903.9770 - mean_absolute_error: 25.5119 - val_loss: 1014.7276 - val_mean_absolute_error: 25.6996\n",
      "Epoch 23/100\n",
      "16/16 [==============================] - 0s 14ms/step - loss: 867.0203 - mean_absolute_error: 24.7491 - val_loss: 1242.2920 - val_mean_absolute_error: 30.1209\n",
      "Epoch 24/100\n",
      "16/16 [==============================] - 0s 14ms/step - loss: 800.2572 - mean_absolute_error: 23.3376 - val_loss: 960.1848 - val_mean_absolute_error: 25.2532\n",
      "Epoch 25/100\n",
      "16/16 [==============================] - 0s 15ms/step - loss: 703.8643 - mean_absolute_error: 21.8945 - val_loss: 865.6013 - val_mean_absolute_error: 24.3046\n",
      "Epoch 26/100\n",
      "16/16 [==============================] - 0s 14ms/step - loss: 598.6849 - mean_absolute_error: 20.1061 - val_loss: 997.5285 - val_mean_absolute_error: 27.6980\n",
      "Epoch 27/100\n",
      "16/16 [==============================] - 0s 15ms/step - loss: 544.7644 - mean_absolute_error: 19.0007 - val_loss: 578.4349 - val_mean_absolute_error: 19.1418\n",
      "Epoch 28/100\n",
      "16/16 [==============================] - 0s 13ms/step - loss: 437.6893 - mean_absolute_error: 16.9209 - val_loss: 528.1677 - val_mean_absolute_error: 18.3612\n",
      "Epoch 29/100\n",
      "16/16 [==============================] - 0s 16ms/step - loss: 345.9763 - mean_absolute_error: 14.5140 - val_loss: 393.5049 - val_mean_absolute_error: 15.4262\n",
      "Epoch 30/100\n",
      "16/16 [==============================] - 0s 14ms/step - loss: 279.5101 - mean_absolute_error: 12.8777 - val_loss: 286.6697 - val_mean_absolute_error: 12.7853\n",
      "Epoch 31/100\n",
      "16/16 [==============================] - 0s 13ms/step - loss: 224.9117 - mean_absolute_error: 11.3950 - val_loss: 276.7011 - val_mean_absolute_error: 13.1319\n",
      "Epoch 32/100\n",
      "16/16 [==============================] - 0s 13ms/step - loss: 161.4130 - mean_absolute_error: 9.1892 - val_loss: 224.7354 - val_mean_absolute_error: 11.9096\n",
      "Epoch 33/100\n",
      "16/16 [==============================] - 0s 14ms/step - loss: 140.6810 - mean_absolute_error: 8.8479 - val_loss: 134.3183 - val_mean_absolute_error: 8.9777\n",
      "Epoch 34/100\n",
      "16/16 [==============================] - 0s 18ms/step - loss: 121.1127 - mean_absolute_error: 8.3282 - val_loss: 207.7008 - val_mean_absolute_error: 12.3860\n",
      "Epoch 35/100\n",
      "16/16 [==============================] - 0s 14ms/step - loss: 94.1108 - mean_absolute_error: 7.0947 - val_loss: 113.9999 - val_mean_absolute_error: 8.3991\n",
      "Epoch 36/100\n",
      "16/16 [==============================] - 0s 15ms/step - loss: 78.2532 - mean_absolute_error: 6.5438 - val_loss: 89.5576 - val_mean_absolute_error: 7.4072\n",
      "Epoch 37/100\n",
      "16/16 [==============================] - 0s 14ms/step - loss: 62.6032 - mean_absolute_error: 5.7096 - val_loss: 79.6327 - val_mean_absolute_error: 6.9766\n",
      "Epoch 38/100\n",
      "16/16 [==============================] - 0s 14ms/step - loss: 56.0430 - mean_absolute_error: 5.5358 - val_loss: 56.5882 - val_mean_absolute_error: 5.8963\n",
      "Epoch 39/100\n",
      "16/16 [==============================] - 0s 13ms/step - loss: 51.0943 - mean_absolute_error: 5.3312 - val_loss: 49.5678 - val_mean_absolute_error: 5.6348\n",
      "Epoch 40/100\n",
      "16/16 [==============================] - 0s 13ms/step - loss: 50.4490 - mean_absolute_error: 5.4146 - val_loss: 53.5182 - val_mean_absolute_error: 5.5497\n",
      "Epoch 41/100\n",
      "16/16 [==============================] - 0s 14ms/step - loss: 44.2202 - mean_absolute_error: 5.0313 - val_loss: 69.2532 - val_mean_absolute_error: 6.5737\n",
      "Epoch 42/100\n",
      "16/16 [==============================] - 0s 16ms/step - loss: 41.2299 - mean_absolute_error: 4.9250 - val_loss: 40.8814 - val_mean_absolute_error: 5.0236\n",
      "Epoch 43/100\n",
      "16/16 [==============================] - 0s 15ms/step - loss: 38.0804 - mean_absolute_error: 4.7313 - val_loss: 36.4656 - val_mean_absolute_error: 5.0337\n",
      "Epoch 44/100\n",
      "16/16 [==============================] - 0s 15ms/step - loss: 42.0607 - mean_absolute_error: 5.0545 - val_loss: 54.7818 - val_mean_absolute_error: 5.5529\n",
      "Epoch 45/100\n",
      "16/16 [==============================] - 0s 15ms/step - loss: 41.1484 - mean_absolute_error: 5.0591 - val_loss: 37.6338 - val_mean_absolute_error: 5.0605\n",
      "Epoch 46/100\n",
      "16/16 [==============================] - 0s 13ms/step - loss: 38.9840 - mean_absolute_error: 4.8822 - val_loss: 48.0265 - val_mean_absolute_error: 5.1134\n",
      "Epoch 47/100\n",
      "16/16 [==============================] - 0s 13ms/step - loss: 34.7309 - mean_absolute_error: 4.6411 - val_loss: 31.6866 - val_mean_absolute_error: 4.6797\n",
      "Epoch 48/100\n",
      "16/16 [==============================] - 0s 15ms/step - loss: 36.0640 - mean_absolute_error: 4.6535 - val_loss: 57.0332 - val_mean_absolute_error: 5.8649\n"
     ]
    },
    {
     "name": "stdout",
     "output_type": "stream",
     "text": [
      "Epoch 49/100\n",
      "16/16 [==============================] - 0s 15ms/step - loss: 47.1421 - mean_absolute_error: 5.4671 - val_loss: 34.0187 - val_mean_absolute_error: 4.4865\n",
      "Epoch 50/100\n",
      "16/16 [==============================] - 0s 14ms/step - loss: 53.2278 - mean_absolute_error: 5.9273 - val_loss: 40.7185 - val_mean_absolute_error: 5.2902\n",
      "Epoch 51/100\n",
      "16/16 [==============================] - 0s 13ms/step - loss: 38.6560 - mean_absolute_error: 4.8698 - val_loss: 32.6402 - val_mean_absolute_error: 4.4275\n",
      "Epoch 52/100\n",
      "16/16 [==============================] - 0s 14ms/step - loss: 31.5768 - mean_absolute_error: 4.3778 - val_loss: 31.8714 - val_mean_absolute_error: 4.3888\n",
      "Epoch 53/100\n",
      "16/16 [==============================] - 0s 14ms/step - loss: 39.2348 - mean_absolute_error: 4.9462 - val_loss: 29.7974 - val_mean_absolute_error: 4.5051\n",
      "Epoch 54/100\n",
      "16/16 [==============================] - 0s 14ms/step - loss: 32.5249 - mean_absolute_error: 4.5039 - val_loss: 29.7749 - val_mean_absolute_error: 4.4327\n",
      "Epoch 55/100\n",
      "16/16 [==============================] - 0s 13ms/step - loss: 33.2931 - mean_absolute_error: 4.5337 - val_loss: 31.3471 - val_mean_absolute_error: 4.3339\n",
      "Epoch 56/100\n",
      "16/16 [==============================] - 0s 14ms/step - loss: 31.7086 - mean_absolute_error: 4.4498 - val_loss: 30.9853 - val_mean_absolute_error: 4.2764\n",
      "Epoch 57/100\n",
      "16/16 [==============================] - 0s 14ms/step - loss: 33.2798 - mean_absolute_error: 4.6202 - val_loss: 33.0276 - val_mean_absolute_error: 4.7492\n",
      "Epoch 58/100\n",
      "16/16 [==============================] - 0s 14ms/step - loss: 34.5371 - mean_absolute_error: 4.6525 - val_loss: 39.6537 - val_mean_absolute_error: 4.5610\n",
      "Epoch 59/100\n",
      "16/16 [==============================] - 0s 14ms/step - loss: 30.7354 - mean_absolute_error: 4.4051 - val_loss: 46.2373 - val_mean_absolute_error: 5.1216\n",
      "Epoch 60/100\n",
      "16/16 [==============================] - 0s 14ms/step - loss: 30.1030 - mean_absolute_error: 4.3570 - val_loss: 29.2280 - val_mean_absolute_error: 4.3220\n",
      "Epoch 61/100\n",
      "16/16 [==============================] - 0s 14ms/step - loss: 31.0898 - mean_absolute_error: 4.3501 - val_loss: 31.5366 - val_mean_absolute_error: 4.6477\n",
      "Epoch 62/100\n",
      "16/16 [==============================] - 0s 14ms/step - loss: 34.2107 - mean_absolute_error: 4.6829 - val_loss: 42.5889 - val_mean_absolute_error: 4.7958\n",
      "Epoch 63/100\n",
      "16/16 [==============================] - 0s 14ms/step - loss: 36.5519 - mean_absolute_error: 4.8741 - val_loss: 36.8379 - val_mean_absolute_error: 4.4790\n",
      "Epoch 64/100\n",
      "16/16 [==============================] - 0s 18ms/step - loss: 29.5491 - mean_absolute_error: 4.2819 - val_loss: 35.8520 - val_mean_absolute_error: 4.3353\n",
      "Epoch 65/100\n",
      "16/16 [==============================] - 0s 12ms/step - loss: 30.9878 - mean_absolute_error: 4.3733 - val_loss: 32.5724 - val_mean_absolute_error: 4.1837\n",
      "Epoch 66/100\n",
      "16/16 [==============================] - 0s 14ms/step - loss: 31.0268 - mean_absolute_error: 4.3910 - val_loss: 41.0076 - val_mean_absolute_error: 4.7683\n",
      "Epoch 67/100\n",
      "16/16 [==============================] - 0s 12ms/step - loss: 31.8324 - mean_absolute_error: 4.4570 - val_loss: 53.2358 - val_mean_absolute_error: 5.6486\n",
      "Epoch 68/100\n",
      "16/16 [==============================] - 0s 13ms/step - loss: 34.1160 - mean_absolute_error: 4.5877 - val_loss: 34.2867 - val_mean_absolute_error: 4.2519\n",
      "Epoch 69/100\n",
      "16/16 [==============================] - 0s 14ms/step - loss: 34.7252 - mean_absolute_error: 4.6233 - val_loss: 30.3141 - val_mean_absolute_error: 4.5318\n",
      "Epoch 70/100\n",
      "16/16 [==============================] - 0s 14ms/step - loss: 31.9881 - mean_absolute_error: 4.3870 - val_loss: 28.5720 - val_mean_absolute_error: 4.1117\n",
      "Epoch 71/100\n",
      "16/16 [==============================] - 0s 13ms/step - loss: 32.4710 - mean_absolute_error: 4.5085 - val_loss: 35.6228 - val_mean_absolute_error: 4.3013\n",
      "Epoch 72/100\n",
      "16/16 [==============================] - 0s 12ms/step - loss: 30.7005 - mean_absolute_error: 4.3491 - val_loss: 36.3449 - val_mean_absolute_error: 4.3468\n",
      "Epoch 73/100\n",
      "16/16 [==============================] - 0s 13ms/step - loss: 29.7806 - mean_absolute_error: 4.1986 - val_loss: 28.4429 - val_mean_absolute_error: 4.0794\n",
      "Epoch 74/100\n",
      "16/16 [==============================] - 0s 15ms/step - loss: 29.0600 - mean_absolute_error: 4.2373 - val_loss: 35.8453 - val_mean_absolute_error: 4.3137\n",
      "Epoch 75/100\n",
      "16/16 [==============================] - 0s 14ms/step - loss: 29.9289 - mean_absolute_error: 4.2821 - val_loss: 53.5295 - val_mean_absolute_error: 5.8064\n",
      "Epoch 76/100\n",
      "16/16 [==============================] - 0s 12ms/step - loss: 30.2910 - mean_absolute_error: 4.3203 - val_loss: 38.6018 - val_mean_absolute_error: 4.5221\n",
      "Epoch 77/100\n",
      "16/16 [==============================] - 0s 15ms/step - loss: 31.2291 - mean_absolute_error: 4.3229 - val_loss: 32.6676 - val_mean_absolute_error: 4.1443\n",
      "Epoch 78/100\n",
      "16/16 [==============================] - 0s 13ms/step - loss: 29.0214 - mean_absolute_error: 4.1827 - val_loss: 36.1658 - val_mean_absolute_error: 4.3284\n",
      "Epoch 79/100\n",
      "16/16 [==============================] - 0s 13ms/step - loss: 29.8153 - mean_absolute_error: 4.3243 - val_loss: 31.5078 - val_mean_absolute_error: 4.0722\n",
      "Epoch 80/100\n",
      "16/16 [==============================] - 0s 15ms/step - loss: 28.7953 - mean_absolute_error: 4.2428 - val_loss: 40.0517 - val_mean_absolute_error: 4.7371\n",
      "Epoch 81/100\n",
      "16/16 [==============================] - 0s 11ms/step - loss: 33.7172 - mean_absolute_error: 4.5738 - val_loss: 43.4549 - val_mean_absolute_error: 4.9974\n",
      "Epoch 82/100\n",
      "16/16 [==============================] - 0s 15ms/step - loss: 30.5630 - mean_absolute_error: 4.3700 - val_loss: 27.5547 - val_mean_absolute_error: 4.0128\n",
      "Epoch 83/100\n",
      "16/16 [==============================] - 0s 16ms/step - loss: 30.1726 - mean_absolute_error: 4.2620 - val_loss: 43.4777 - val_mean_absolute_error: 4.8942\n",
      "Epoch 84/100\n",
      "16/16 [==============================] - 0s 13ms/step - loss: 29.8425 - mean_absolute_error: 4.2527 - val_loss: 33.6190 - val_mean_absolute_error: 4.1572\n",
      "Epoch 85/100\n",
      "16/16 [==============================] - 0s 18ms/step - loss: 28.5648 - mean_absolute_error: 4.1911 - val_loss: 33.2679 - val_mean_absolute_error: 4.8079\n",
      "Epoch 86/100\n",
      "16/16 [==============================] - 0s 14ms/step - loss: 31.8375 - mean_absolute_error: 4.4278 - val_loss: 26.8733 - val_mean_absolute_error: 4.0721\n",
      "Epoch 87/100\n",
      "16/16 [==============================] - 0s 13ms/step - loss: 29.6955 - mean_absolute_error: 4.2574 - val_loss: 31.0601 - val_mean_absolute_error: 4.0238\n",
      "Epoch 88/100\n",
      "16/16 [==============================] - 0s 13ms/step - loss: 28.2006 - mean_absolute_error: 4.1330 - val_loss: 32.5339 - val_mean_absolute_error: 4.7293\n",
      "Epoch 89/100\n",
      "16/16 [==============================] - 0s 15ms/step - loss: 28.0785 - mean_absolute_error: 4.0346 - val_loss: 26.6471 - val_mean_absolute_error: 4.1247\n",
      "Epoch 90/100\n",
      "16/16 [==============================] - 0s 15ms/step - loss: 29.7906 - mean_absolute_error: 4.2511 - val_loss: 49.5615 - val_mean_absolute_error: 5.4697\n",
      "Epoch 91/100\n",
      "16/16 [==============================] - 0s 14ms/step - loss: 31.1674 - mean_absolute_error: 4.3322 - val_loss: 29.9897 - val_mean_absolute_error: 4.4983\n",
      "Epoch 92/100\n",
      "16/16 [==============================] - 0s 15ms/step - loss: 31.2267 - mean_absolute_error: 4.3697 - val_loss: 32.7662 - val_mean_absolute_error: 4.0974\n",
      "Epoch 93/100\n",
      "16/16 [==============================] - 0s 14ms/step - loss: 30.2807 - mean_absolute_error: 4.2799 - val_loss: 26.5898 - val_mean_absolute_error: 4.1172\n",
      "Epoch 94/100\n",
      "16/16 [==============================] - 0s 16ms/step - loss: 29.3738 - mean_absolute_error: 4.2123 - val_loss: 37.9642 - val_mean_absolute_error: 4.4519\n",
      "Epoch 95/100\n",
      "16/16 [==============================] - 0s 14ms/step - loss: 29.0438 - mean_absolute_error: 4.2198 - val_loss: 37.9065 - val_mean_absolute_error: 4.4563\n",
      "Epoch 96/100\n",
      "16/16 [==============================] - 0s 15ms/step - loss: 31.5098 - mean_absolute_error: 4.3978 - val_loss: 29.6909 - val_mean_absolute_error: 4.4729\n",
      "Epoch 97/100\n",
      "16/16 [==============================] - 0s 14ms/step - loss: 34.2534 - mean_absolute_error: 4.5667 - val_loss: 33.8460 - val_mean_absolute_error: 4.2718\n",
      "Epoch 98/100\n"
     ]
    },
    {
     "name": "stdout",
     "output_type": "stream",
     "text": [
      "16/16 [==============================] - 0s 12ms/step - loss: 28.4057 - mean_absolute_error: 4.1339 - val_loss: 29.3482 - val_mean_absolute_error: 3.9395\n",
      "Epoch 99/100\n",
      "16/16 [==============================] - 0s 14ms/step - loss: 28.0239 - mean_absolute_error: 4.1385 - val_loss: 28.8158 - val_mean_absolute_error: 3.9857\n",
      "Epoch 100/100\n",
      "16/16 [==============================] - 0s 13ms/step - loss: 27.3213 - mean_absolute_error: 4.0247 - val_loss: 36.0308 - val_mean_absolute_error: 4.2704\n"
     ]
    },
    {
     "data": {
      "text/plain": [
       "<keras.callbacks.History at 0x1f2d4d72520>"
      ]
     },
     "execution_count": 16,
     "metadata": {},
     "output_type": "execute_result"
    }
   ],
   "source": [
    "from tensorflow.keras.models import Sequential\n",
    "from tensorflow.keras.optimizers import Adam\n",
    "from tensorflow.keras import layers\n",
    "\n",
    "model = Sequential([layers.Input((3,1)),\n",
    "                    layers.LSTM(64),\n",
    "                    layers.Dense(32, activation = 'relu'),\n",
    "                    layers.Dense(32, activation = 'relu'),\n",
    "                    layers.Dense(1)])\n",
    "\n",
    "model.compile(loss = 'mse',\n",
    "               optimizer = Adam(learning_rate = 0.001),\n",
    "              metrics = ['mean_absolute_error'])\n",
    "model.fit(x_train , y_train , validation_data = (x_val , y_val), epochs = 100)"
   ]
  },
  {
   "cell_type": "code",
   "execution_count": 17,
   "id": "053ca6b0",
   "metadata": {},
   "outputs": [
    {
     "name": "stdout",
     "output_type": "stream",
     "text": [
      "16/16 [==============================] - 1s 4ms/step\n"
     ]
    },
    {
     "data": {
      "text/plain": [
       "<matplotlib.legend.Legend at 0x1f2e36c6ee0>"
      ]
     },
     "execution_count": 17,
     "metadata": {},
     "output_type": "execute_result"
    },
    {
     "data": {
      "image/png": "[encoded data removed]",
      "text/plain": [
       "<Figure size 432x288 with 1 Axes>"
      ]
     },
     "metadata": {
      "needs_background": "light"
     },
     "output_type": "display_data"
    }
   ],
   "source": [
    "train_pred = model.predict(x_train).flatten()\n",
    "\n",
    "plt.plot(dates_train , train_pred)\n",
    "plt.plot(dates_train , y_train)\n",
    "plt.legend(['Training Predictions' , 'Training Observations'])"
   ]
  },
  {
   "cell_type": "code",
   "execution_count": 18,
   "id": "d275c173",
   "metadata": {},
   "outputs": [
    {
     "name": "stdout",
     "output_type": "stream",
     "text": [
      "2/2 [==============================] - 0s 8ms/step\n"
     ]
    },
    {
     "data": {
      "text/plain": [
       "<matplotlib.legend.Legend at 0x1f2e37788b0>"
      ]
     },
     "execution_count": 18,
     "metadata": {},
     "output_type": "execute_result"
    },
    {
     "data": {
      "image/png": "[encoded data removed]",
      "text/plain": [
       "<Figure size 432x288 with 1 Axes>"
      ]
     },
     "metadata": {
      "needs_background": "light"
     },
     "output_type": "display_data"
    }
   ],
   "source": [
    "val_pred = model.predict(x_val).flatten()\n",
    "\n",
    "plt.plot(dates_val , val_pred)\n",
    "plt.plot(dates_val , y_val)\n",
    "plt.legend(['Validation Predictions' , 'Validation Observations'])"
   ]
  },
  {
   "cell_type": "code",
   "execution_count": 19,
   "id": "c63cecde",
   "metadata": {},
   "outputs": [
    {
     "name": "stdout",
     "output_type": "stream",
     "text": [
      "2/2 [==============================] - 0s 0s/step\n"
     ]
    },
    {
     "data": {
      "text/plain": [
       "<matplotlib.legend.Legend at 0x1f2e37f0820>"
      ]
     },
     "execution_count": 19,
     "metadata": {},
     "output_type": "execute_result"
    },
    {
     "data": {
      "image/png": "[encoded data removed]",
      "text/plain": [
       "<Figure size 432x288 with 1 Axes>"
      ]
     },
     "metadata": {
      "needs_background": "light"
     },
     "output_type": "display_data"
    }
   ],
   "source": [
    "test_pred = model.predict(x_test).flatten()\n",
    "\n",
    "plt.plot(dates_test , test_pred)\n",
    "plt.plot(dates_test , y_test)\n",
    "plt.legend(['Testing Predictions' , 'Testing Observations'])"
   ]
  },
  {
   "cell_type": "code",
   "execution_count": 20,
   "id": "97a51527",
   "metadata": {
    "scrolled": true
   },
   "outputs": [
    {
     "data": {
      "text/plain": [
       "<matplotlib.legend.Legend at 0x1f2e386d5e0>"
      ]
     },
     "execution_count": 20,
     "metadata": {},
     "output_type": "execute_result"
    },
    {
     "data": {
      "image/png": "[encoded data removed]",
      "text/plain": [
       "<Figure size 432x288 with 1 Axes>"
      ]
     },
     "metadata": {
      "needs_background": "light"
     },
     "output_type": "display_data"
    }
   ],
   "source": [
    "plt.plot(dates_train , train_pred)\n",
    "plt.plot(dates_train , y_train)\n",
    "plt.plot(dates_val , val_pred)\n",
    "plt.plot(dates_val , y_val)\n",
    "plt.plot(dates_test , test_pred)\n",
    "plt.plot(dates_test , y_test)\n",
    "plt.legend(['Training Predictions',\n",
    "            'Training Observations',\n",
    "            'Validation Predictions',\n",
    "            'Validation Observations',\n",
    "            'Testing Predictions', \n",
    "            'Testing Observations'])"
   ]
  },
  {
   "cell_type": "code",
   "execution_count": 21,
   "id": "79d66afd",
   "metadata": {},
   "outputs": [
    {
     "name": "stdout",
     "output_type": "stream",
     "text": [
      "1/1 [==============================] - 0s 59ms/step\n",
      "1/1 [==============================] - 0s 52ms/step\n",
      "1/1 [==============================] - 0s 66ms/step\n",
      "1/1 [==============================] - 0s 74ms/step\n",
      "1/1 [==============================] - 0s 74ms/step\n",
      "1/1 [==============================] - 0s 56ms/step\n",
      "1/1 [==============================] - 0s 62ms/step\n",
      "1/1 [==============================] - 0s 64ms/step\n",
      "1/1 [==============================] - 0s 37ms/step\n",
      "1/1 [==============================] - 0s 71ms/step\n",
      "1/1 [==============================] - 0s 50ms/step\n",
      "1/1 [==============================] - 0s 53ms/step\n",
      "1/1 [==============================] - 0s 48ms/step\n",
      "1/1 [==============================] - 0s 49ms/step\n",
      "1/1 [==============================] - 0s 65ms/step\n",
      "1/1 [==============================] - 0s 56ms/step\n",
      "1/1 [==============================] - 0s 48ms/step\n",
      "1/1 [==============================] - 0s 49ms/step\n",
      "1/1 [==============================] - 0s 47ms/step\n",
      "1/1 [==============================] - 0s 65ms/step\n",
      "1/1 [==============================] - 0s 49ms/step\n",
      "1/1 [==============================] - 0s 48ms/step\n",
      "1/1 [==============================] - 0s 49ms/step\n",
      "1/1 [==============================] - 0s 49ms/step\n",
      "1/1 [==============================] - 0s 49ms/step\n",
      "1/1 [==============================] - 0s 48ms/step\n",
      "1/1 [==============================] - 0s 52ms/step\n",
      "1/1 [==============================] - 0s 49ms/step\n",
      "1/1 [==============================] - 0s 56ms/step\n",
      "1/1 [==============================] - 0s 46ms/step\n",
      "1/1 [==============================] - 0s 66ms/step\n",
      "1/1 [==============================] - 0s 55ms/step\n",
      "1/1 [==============================] - 0s 64ms/step\n",
      "1/1 [==============================] - 0s 64ms/step\n",
      "1/1 [==============================] - 0s 52ms/step\n",
      "1/1 [==============================] - 0s 52ms/step\n",
      "1/1 [==============================] - 0s 57ms/step\n",
      "1/1 [==============================] - 0s 46ms/step\n",
      "1/1 [==============================] - 0s 57ms/step\n",
      "1/1 [==============================] - 0s 49ms/step\n",
      "1/1 [==============================] - 0s 55ms/step\n",
      "1/1 [==============================] - 0s 64ms/step\n",
      "1/1 [==============================] - 0s 72ms/step\n",
      "1/1 [==============================] - 0s 73ms/step\n",
      "1/1 [==============================] - 0s 47ms/step\n",
      "1/1 [==============================] - 0s 64ms/step\n",
      "1/1 [==============================] - 0s 58ms/step\n",
      "1/1 [==============================] - 0s 53ms/step\n",
      "1/1 [==============================] - 0s 64ms/step\n",
      "1/1 [==============================] - 0s 71ms/step\n",
      "1/1 [==============================] - 0s 55ms/step\n",
      "1/1 [==============================] - 0s 40ms/step\n",
      "1/1 [==============================] - 0s 56ms/step\n",
      "1/1 [==============================] - 0s 56ms/step\n",
      "1/1 [==============================] - 0s 56ms/step\n",
      "1/1 [==============================] - 0s 59ms/step\n",
      "1/1 [==============================] - 0s 59ms/step\n",
      "1/1 [==============================] - 0s 53ms/step\n",
      "1/1 [==============================] - 0s 50ms/step\n",
      "1/1 [==============================] - 0s 65ms/step\n",
      "1/1 [==============================] - 0s 62ms/step\n",
      "1/1 [==============================] - 0s 32ms/step\n",
      "1/1 [==============================] - 0s 64ms/step\n",
      "1/1 [==============================] - 0s 56ms/step\n",
      "1/1 [==============================] - 0s 66ms/step\n",
      "1/1 [==============================] - 0s 77ms/step\n",
      "1/1 [==============================] - 0s 48ms/step\n",
      "1/1 [==============================] - 0s 50ms/step\n",
      "1/1 [==============================] - 0s 53ms/step\n",
      "1/1 [==============================] - 0s 73ms/step\n",
      "1/1 [==============================] - 0s 50ms/step\n",
      "1/1 [==============================] - 0s 67ms/step\n",
      "1/1 [==============================] - 0s 56ms/step\n",
      "1/1 [==============================] - 0s 43ms/step\n",
      "1/1 [==============================] - 0s 65ms/step\n",
      "1/1 [==============================] - 0s 49ms/step\n",
      "1/1 [==============================] - 0s 48ms/step\n",
      "1/1 [==============================] - 0s 50ms/step\n",
      "1/1 [==============================] - 0s 75ms/step\n",
      "1/1 [==============================] - 0s 56ms/step\n",
      "1/1 [==============================] - 0s 48ms/step\n",
      "1/1 [==============================] - 0s 50ms/step\n",
      "1/1 [==============================] - 0s 55ms/step\n",
      "1/1 [==============================] - 0s 49ms/step\n",
      "1/1 [==============================] - 0s 65ms/step\n",
      "1/1 [==============================] - 0s 56ms/step\n",
      "1/1 [==============================] - 0s 52ms/step\n",
      "1/1 [==============================] - 0s 41ms/step\n",
      "1/1 [==============================] - 0s 52ms/step\n",
      "1/1 [==============================] - 0s 49ms/step\n",
      "1/1 [==============================] - 0s 45ms/step\n",
      "1/1 [==============================] - 0s 40ms/step\n",
      "1/1 [==============================] - 0s 55ms/step\n",
      "1/1 [==============================] - 0s 99ms/step\n",
      "1/1 [==============================] - 0s 48ms/step\n",
      "1/1 [==============================] - 0s 65ms/step\n",
      "1/1 [==============================] - 0s 64ms/step\n",
      "1/1 [==============================] - 0s 59ms/step\n",
      "1/1 [==============================] - 0s 51ms/step\n",
      "1/1 [==============================] - 0s 59ms/step\n",
      "1/1 [==============================] - 0s 48ms/step\n",
      "1/1 [==============================] - 0s 63ms/step\n",
      "1/1 [==============================] - 0s 53ms/step\n",
      "1/1 [==============================] - 0s 65ms/step\n",
      "1/1 [==============================] - 0s 65ms/step\n",
      "1/1 [==============================] - 0s 66ms/step\n",
      "1/1 [==============================] - 0s 65ms/step\n",
      "1/1 [==============================] - 0s 73ms/step\n",
      "1/1 [==============================] - 0s 65ms/step\n",
      "1/1 [==============================] - 0s 63ms/step\n",
      "1/1 [==============================] - 0s 54ms/step\n",
      "1/1 [==============================] - 0s 64ms/step\n",
      "1/1 [==============================] - 0s 57ms/step\n",
      "1/1 [==============================] - 0s 58ms/step\n",
      "1/1 [==============================] - 0s 69ms/step\n",
      "1/1 [==============================] - 0s 50ms/step\n",
      "1/1 [==============================] - 0s 56ms/step\n",
      "1/1 [==============================] - 0s 57ms/step\n",
      "1/1 [==============================] - 0s 63ms/step\n",
      "1/1 [==============================] - 0s 64ms/step\n",
      "1/1 [==============================] - 0s 56ms/step\n",
      "1/1 [==============================] - 0s 56ms/step\n",
      "1/1 [==============================] - 0s 48ms/step\n",
      "1/1 [==============================] - 0s 49ms/step\n"
     ]
    }
   ],
   "source": [
    "from copy import deepcopy\n",
    "recursive_pred = []\n",
    "recursive_dates = np.concatenate([dates_val , dates_test])\n",
    "\n",
    "for target in recursive_dates:\n",
    "    last_window = deepcopy(x_train[-1])\n",
    "    next_pred = model.predict(np.array([last_window])).flatten()\n",
    "    recursive_pred.append(next_pred)\n",
    "    last_window[-1] = next_pred"
   ]
  },
  {
   "cell_type": "code",
   "execution_count": 22,
   "id": "23418416",
   "metadata": {},
   "outputs": [
    {
     "data": {
      "text/plain": [
       "<matplotlib.legend.Legend at 0x1f2e39b7220>"
      ]
     },
     "execution_count": 22,
     "metadata": {},
     "output_type": "execute_result"
    },
    {
     "data": {
      "image/png": "[encoded data removed]",
      "text/plain": [
       "<Figure size 432x288 with 1 Axes>"
      ]
     },
     "metadata": {
      "needs_background": "light"
     },
     "output_type": "display_data"
    }
   ],
   "source": [
    "plt.plot(dates_train , train_pred)\n",
    "plt.plot(dates_train , y_train)\n",
    "plt.plot(dates_val , val_pred)\n",
    "plt.plot(dates_val , y_val)\n",
    "plt.plot(dates_test , test_pred)\n",
    "plt.plot(dates_test , y_test)\n",
    "plt.plot(recursive_dates , recursive_pred)\n",
    "plt.legend(['Training Predictions',\n",
    "            'Training Observations',\n",
    "            'Validation Predictions',\n",
    "            'Validation Observations',\n",
    "            'Testing Predictions', \n",
    "            'Testing Observations',\n",
    "            'Recursive Observations',\n",
    "           'Recursive Predictions'])"
   ]
  },
  {
   "cell_type": "code",
   "execution_count": null,
   "id": "458646fa",
   "metadata": {},
   "outputs": [],
   "source": []
  }
 ],
 "metadata": {
  "kernelspec": {
   "display_name": "Python 3 (ipykernel)",
   "language": "python",
   "name": "python3"
  },
  "language_info": {
   "codemirror_mode": {
    "name": "ipython",
    "version": 3
   },
   "file_extension": ".py",
   "mimetype": "text/x-python",
   "name": "python",
   "nbconvert_exporter": "python",
   "pygments_lexer": "ipython3",
   "version": "3.9.12"
  }
 },
 "nbformat": 4,
 "nbformat_minor": 5
}
